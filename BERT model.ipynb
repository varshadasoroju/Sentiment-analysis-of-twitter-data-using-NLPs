{
 "cells": [
  {
   "cell_type": "code",
   "execution_count": 1,
   "metadata": {
    "colab": {
     "base_uri": "https://localhost:8080/",
     "height": 35
    },
    "colab_type": "code",
    "executionInfo": {
     "elapsed": 8921,
     "status": "ok",
     "timestamp": 1586841173298,
     "user": {
      "displayName": "Zichuang Xie",
      "photoUrl": "",
      "userId": "08982348595392357027"
     },
     "user_tz": 420
    },
    "id": "JajIyFa0Ac-_",
    "outputId": "d095a8a7-fb85-4a06-8167-65adb9b441b9"
   },
   "outputs": [
    {
     "name": "stderr",
     "output_type": "stream",
     "text": [
      "/home/varsha/.local/lib/python3.7/site-packages/tensorflow/python/framework/dtypes.py:516: FutureWarning: Passing (type, 1) or '1type' as a synonym of type is deprecated; in a future version of numpy, it will be understood as (type, (1,)) / '(1,)type'.\n",
      "  _np_qint8 = np.dtype([(\"qint8\", np.int8, 1)])\n",
      "/home/varsha/.local/lib/python3.7/site-packages/tensorflow/python/framework/dtypes.py:517: FutureWarning: Passing (type, 1) or '1type' as a synonym of type is deprecated; in a future version of numpy, it will be understood as (type, (1,)) / '(1,)type'.\n",
      "  _np_quint8 = np.dtype([(\"quint8\", np.uint8, 1)])\n",
      "/home/varsha/.local/lib/python3.7/site-packages/tensorflow/python/framework/dtypes.py:518: FutureWarning: Passing (type, 1) or '1type' as a synonym of type is deprecated; in a future version of numpy, it will be understood as (type, (1,)) / '(1,)type'.\n",
      "  _np_qint16 = np.dtype([(\"qint16\", np.int16, 1)])\n",
      "/home/varsha/.local/lib/python3.7/site-packages/tensorflow/python/framework/dtypes.py:519: FutureWarning: Passing (type, 1) or '1type' as a synonym of type is deprecated; in a future version of numpy, it will be understood as (type, (1,)) / '(1,)type'.\n",
      "  _np_quint16 = np.dtype([(\"quint16\", np.uint16, 1)])\n",
      "/home/varsha/.local/lib/python3.7/site-packages/tensorflow/python/framework/dtypes.py:520: FutureWarning: Passing (type, 1) or '1type' as a synonym of type is deprecated; in a future version of numpy, it will be understood as (type, (1,)) / '(1,)type'.\n",
      "  _np_qint32 = np.dtype([(\"qint32\", np.int32, 1)])\n",
      "/home/varsha/.local/lib/python3.7/site-packages/tensorflow/python/framework/dtypes.py:525: FutureWarning: Passing (type, 1) or '1type' as a synonym of type is deprecated; in a future version of numpy, it will be understood as (type, (1,)) / '(1,)type'.\n",
      "  np_resource = np.dtype([(\"resource\", np.ubyte, 1)])\n",
      "/home/varsha/.local/lib/python3.7/site-packages/tensorboard/compat/tensorflow_stub/dtypes.py:541: FutureWarning: Passing (type, 1) or '1type' as a synonym of type is deprecated; in a future version of numpy, it will be understood as (type, (1,)) / '(1,)type'.\n",
      "  _np_qint8 = np.dtype([(\"qint8\", np.int8, 1)])\n",
      "/home/varsha/.local/lib/python3.7/site-packages/tensorboard/compat/tensorflow_stub/dtypes.py:542: FutureWarning: Passing (type, 1) or '1type' as a synonym of type is deprecated; in a future version of numpy, it will be understood as (type, (1,)) / '(1,)type'.\n",
      "  _np_quint8 = np.dtype([(\"quint8\", np.uint8, 1)])\n",
      "/home/varsha/.local/lib/python3.7/site-packages/tensorboard/compat/tensorflow_stub/dtypes.py:543: FutureWarning: Passing (type, 1) or '1type' as a synonym of type is deprecated; in a future version of numpy, it will be understood as (type, (1,)) / '(1,)type'.\n",
      "  _np_qint16 = np.dtype([(\"qint16\", np.int16, 1)])\n",
      "/home/varsha/.local/lib/python3.7/site-packages/tensorboard/compat/tensorflow_stub/dtypes.py:544: FutureWarning: Passing (type, 1) or '1type' as a synonym of type is deprecated; in a future version of numpy, it will be understood as (type, (1,)) / '(1,)type'.\n",
      "  _np_quint16 = np.dtype([(\"quint16\", np.uint16, 1)])\n",
      "/home/varsha/.local/lib/python3.7/site-packages/tensorboard/compat/tensorflow_stub/dtypes.py:545: FutureWarning: Passing (type, 1) or '1type' as a synonym of type is deprecated; in a future version of numpy, it will be understood as (type, (1,)) / '(1,)type'.\n",
      "  _np_qint32 = np.dtype([(\"qint32\", np.int32, 1)])\n",
      "/home/varsha/.local/lib/python3.7/site-packages/tensorboard/compat/tensorflow_stub/dtypes.py:550: FutureWarning: Passing (type, 1) or '1type' as a synonym of type is deprecated; in a future version of numpy, it will be understood as (type, (1,)) / '(1,)type'.\n",
      "  np_resource = np.dtype([(\"resource\", np.ubyte, 1)])\n"
     ]
    },
    {
     "ename": "SystemError",
     "evalue": "GPU device not found",
     "output_type": "error",
     "traceback": [
      "\u001b[0;31m---------------------------------------------------------------------------\u001b[0m",
      "\u001b[0;31mSystemError\u001b[0m                               Traceback (most recent call last)",
      "\u001b[0;32m<ipython-input-1-cd5bb073bb20>\u001b[0m in \u001b[0;36m<module>\u001b[0;34m\u001b[0m\n\u001b[1;32m      8\u001b[0m     \u001b[0mprint\u001b[0m\u001b[0;34m(\u001b[0m\u001b[0;34m'Found GPU at: {}'\u001b[0m\u001b[0;34m.\u001b[0m\u001b[0mformat\u001b[0m\u001b[0;34m(\u001b[0m\u001b[0mdevice_name\u001b[0m\u001b[0;34m)\u001b[0m\u001b[0;34m)\u001b[0m\u001b[0;34m\u001b[0m\u001b[0;34m\u001b[0m\u001b[0m\n\u001b[1;32m      9\u001b[0m \u001b[0;32melse\u001b[0m\u001b[0;34m:\u001b[0m\u001b[0;34m\u001b[0m\u001b[0;34m\u001b[0m\u001b[0m\n\u001b[0;32m---> 10\u001b[0;31m     \u001b[0;32mraise\u001b[0m \u001b[0mSystemError\u001b[0m\u001b[0;34m(\u001b[0m\u001b[0;34m'GPU device not found'\u001b[0m\u001b[0;34m)\u001b[0m\u001b[0;34m\u001b[0m\u001b[0;34m\u001b[0m\u001b[0m\n\u001b[0m",
      "\u001b[0;31mSystemError\u001b[0m: GPU device not found"
     ]
    }
   ],
   "source": [
    "import tensorflow as tf\n",
    "\n",
    "device_name = tf.test.gpu_device_name()\n",
    "\n",
    "if device_name == '/device:GPU:0':\n",
    "    print('Found GPU at: {}'.format(device_name))\n",
    "else:\n",
    "    raise SystemError('GPU device not found')"
   ]
  },
  {
   "cell_type": "code",
   "execution_count": 2,
   "metadata": {
    "colab": {
     "base_uri": "https://localhost:8080/",
     "height": 52
    },
    "colab_type": "code",
    "executionInfo": {
     "elapsed": 4100,
     "status": "ok",
     "timestamp": 1586841376336,
     "user": {
      "displayName": "Zichuang Xie",
      "photoUrl": "",
      "userId": "08982348595392357027"
     },
     "user_tz": 420
    },
    "id": "1LlRmAt1Aeja",
    "outputId": "04048633-4756-4b0e-e5ad-5056860ae67a"
   },
   "outputs": [
    {
     "name": "stdout",
     "output_type": "stream",
     "text": [
      "No GPU available, using the CPU instead.\n"
     ]
    }
   ],
   "source": [
    "import torch\n",
    "if torch.cuda.is_available():    \n",
    "  \n",
    "    device = torch.device(\"cuda\")\n",
    "\n",
    "    print('There are %d GPU(s) available.' % torch.cuda.device_count())\n",
    "\n",
    "    print('We will use the GPU:', torch.cuda.get_device_name(0))\n",
    "\n",
    "else:\n",
    "    print('No GPU available, using the CPU instead.')\n",
    "    device = torch.device(\"cpu\")"
   ]
  },
  {
   "cell_type": "code",
   "execution_count": 3,
   "metadata": {
    "colab": {},
    "colab_type": "code",
    "id": "hvXQHVT4A2Av"
   },
   "outputs": [
    {
     "name": "stdout",
     "output_type": "stream",
     "text": [
      "Requirement already satisfied: transformers in /home/varsha/anaconda3/lib/python3.7/site-packages (3.0.2)\n",
      "Requirement already satisfied: sacremoses in /home/varsha/anaconda3/lib/python3.7/site-packages (from transformers) (0.0.43)\n",
      "Requirement already satisfied: tqdm>=4.27 in /home/varsha/anaconda3/lib/python3.7/site-packages (from transformers) (4.42.1)\n",
      "Requirement already satisfied: requests in /home/varsha/anaconda3/lib/python3.7/site-packages (from transformers) (2.22.0)\n",
      "Requirement already satisfied: filelock in /home/varsha/anaconda3/lib/python3.7/site-packages (from transformers) (3.0.12)\n",
      "Requirement already satisfied: regex!=2019.12.17 in /home/varsha/anaconda3/lib/python3.7/site-packages (from transformers) (2020.6.8)\n",
      "Requirement already satisfied: tokenizers==0.8.1.rc1 in /home/varsha/anaconda3/lib/python3.7/site-packages (from transformers) (0.8.1rc1)\n",
      "Requirement already satisfied: packaging in /home/varsha/anaconda3/lib/python3.7/site-packages (from transformers) (20.1)\n",
      "Requirement already satisfied: numpy in /home/varsha/anaconda3/lib/python3.7/site-packages (from transformers) (1.18.1)\n",
      "Requirement already satisfied: sentencepiece!=0.1.92 in /home/varsha/anaconda3/lib/python3.7/site-packages (from transformers) (0.1.91)\n",
      "Requirement already satisfied: six in /home/varsha/anaconda3/lib/python3.7/site-packages (from sacremoses->transformers) (1.14.0)\n",
      "Requirement already satisfied: click in /home/varsha/anaconda3/lib/python3.7/site-packages (from sacremoses->transformers) (7.0)\n",
      "Requirement already satisfied: joblib in /home/varsha/anaconda3/lib/python3.7/site-packages (from sacremoses->transformers) (0.14.1)\n",
      "Requirement already satisfied: idna<2.9,>=2.5 in /home/varsha/anaconda3/lib/python3.7/site-packages (from requests->transformers) (2.8)\n",
      "Requirement already satisfied: certifi>=2017.4.17 in /home/varsha/anaconda3/lib/python3.7/site-packages (from requests->transformers) (2019.11.28)\n",
      "Requirement already satisfied: urllib3!=1.25.0,!=1.25.1,<1.26,>=1.21.1 in /home/varsha/anaconda3/lib/python3.7/site-packages (from requests->transformers) (1.25.8)\n",
      "Requirement already satisfied: chardet<3.1.0,>=3.0.2 in /home/varsha/anaconda3/lib/python3.7/site-packages (from requests->transformers) (3.0.4)\n",
      "Requirement already satisfied: pyparsing>=2.0.2 in /home/varsha/anaconda3/lib/python3.7/site-packages (from packaging->transformers) (2.4.6)\n"
     ]
    }
   ],
   "source": [
    "!pip install transformers\n",
    "import numpy as np\n",
    "import pandas as pd\n",
    "import os"
   ]
  },
  {
   "cell_type": "code",
   "execution_count": 6,
   "metadata": {
    "colab": {},
    "colab_type": "code",
    "id": "dbcieC9nA5Hp"
   },
   "outputs": [
    {
     "name": "stdout",
     "output_type": "stream",
     "text": [
      "Number of training sentences: 2,000\n",
      "\n"
     ]
    },
    {
     "data": {
      "text/html": [
       "<div>\n",
       "<style scoped>\n",
       "    .dataframe tbody tr th:only-of-type {\n",
       "        vertical-align: middle;\n",
       "    }\n",
       "\n",
       "    .dataframe tbody tr th {\n",
       "        vertical-align: top;\n",
       "    }\n",
       "\n",
       "    .dataframe thead th {\n",
       "        text-align: right;\n",
       "    }\n",
       "</style>\n",
       "<table border=\"1\" class=\"dataframe\">\n",
       "  <thead>\n",
       "    <tr style=\"text-align: right;\">\n",
       "      <th></th>\n",
       "      <th>hashtags</th>\n",
       "      <th>img_urls</th>\n",
       "      <th>is_replied</th>\n",
       "      <th>is_reply_to</th>\n",
       "      <th>likes</th>\n",
       "      <th>links</th>\n",
       "      <th>parent_tweet_id</th>\n",
       "      <th>replies</th>\n",
       "      <th>reply_to_users</th>\n",
       "      <th>retweets</th>\n",
       "      <th>...</th>\n",
       "      <th>document_tone.1</th>\n",
       "      <th>sentences_tone.1</th>\n",
       "      <th>document_tones</th>\n",
       "      <th>fear</th>\n",
       "      <th>confident</th>\n",
       "      <th>analytical</th>\n",
       "      <th>sadness</th>\n",
       "      <th>joy</th>\n",
       "      <th>tentative</th>\n",
       "      <th>anger</th>\n",
       "    </tr>\n",
       "  </thead>\n",
       "  <tbody>\n",
       "    <tr>\n",
       "      <th>893</th>\n",
       "      <td>[]</td>\n",
       "      <td>['https://pbs.twimg.com/media/EOvaYfeU8AMCRZA....</td>\n",
       "      <td>False</td>\n",
       "      <td>False</td>\n",
       "      <td>0</td>\n",
       "      <td>['http://dlvr.it/RNPhF1']</td>\n",
       "      <td>NaN</td>\n",
       "      <td>0</td>\n",
       "      <td>[]</td>\n",
       "      <td>0</td>\n",
       "      <td>...</td>\n",
       "      <td>{'tones': [{'score': 0.955445, 'tone_id': 'ana...</td>\n",
       "      <td>NaN</td>\n",
       "      <td>[{'score': 0.955445, 'tone_id': 'analytical', ...</td>\n",
       "      <td>NaN</td>\n",
       "      <td>NaN</td>\n",
       "      <td>1.0</td>\n",
       "      <td>NaN</td>\n",
       "      <td>NaN</td>\n",
       "      <td>NaN</td>\n",
       "      <td>NaN</td>\n",
       "    </tr>\n",
       "    <tr>\n",
       "      <th>356</th>\n",
       "      <td>[]</td>\n",
       "      <td>['https://pbs.twimg.com/media/EOwKklpU8AIZ9nH....</td>\n",
       "      <td>True</td>\n",
       "      <td>False</td>\n",
       "      <td>3</td>\n",
       "      <td>['http://dlvr.it/RNQG2t']</td>\n",
       "      <td>NaN</td>\n",
       "      <td>1</td>\n",
       "      <td>[]</td>\n",
       "      <td>4</td>\n",
       "      <td>...</td>\n",
       "      <td>{'tones': [{'score': 0.955445, 'tone_id': 'ana...</td>\n",
       "      <td>NaN</td>\n",
       "      <td>[{'score': 0.955445, 'tone_id': 'analytical', ...</td>\n",
       "      <td>NaN</td>\n",
       "      <td>NaN</td>\n",
       "      <td>1.0</td>\n",
       "      <td>NaN</td>\n",
       "      <td>NaN</td>\n",
       "      <td>NaN</td>\n",
       "      <td>NaN</td>\n",
       "    </tr>\n",
       "    <tr>\n",
       "      <th>1977</th>\n",
       "      <td>['SmartNews']</td>\n",
       "      <td>[]</td>\n",
       "      <td>False</td>\n",
       "      <td>False</td>\n",
       "      <td>1</td>\n",
       "      <td>['https://www.reuters.com/article/us-china-hea...</td>\n",
       "      <td>NaN</td>\n",
       "      <td>0</td>\n",
       "      <td>[]</td>\n",
       "      <td>0</td>\n",
       "      <td>...</td>\n",
       "      <td>{'tones': [{'score': 0.508467, 'tone_id': 'joy...</td>\n",
       "      <td>NaN</td>\n",
       "      <td>[{'score': 0.508467, 'tone_id': 'joy', 'tone_n...</td>\n",
       "      <td>NaN</td>\n",
       "      <td>NaN</td>\n",
       "      <td>1.0</td>\n",
       "      <td>NaN</td>\n",
       "      <td>1.0</td>\n",
       "      <td>NaN</td>\n",
       "      <td>NaN</td>\n",
       "    </tr>\n",
       "    <tr>\n",
       "      <th>70</th>\n",
       "      <td>['Emerging', 'Virus', 'Preparedness', 'wuhan',...</td>\n",
       "      <td>[]</td>\n",
       "      <td>True</td>\n",
       "      <td>False</td>\n",
       "      <td>15</td>\n",
       "      <td>[]</td>\n",
       "      <td>NaN</td>\n",
       "      <td>2</td>\n",
       "      <td>[]</td>\n",
       "      <td>6</td>\n",
       "      <td>...</td>\n",
       "      <td>{'tones': []}</td>\n",
       "      <td>[{'sentence_id': 0, 'text': 'Where is #Emergin...</td>\n",
       "      <td>[]</td>\n",
       "      <td>NaN</td>\n",
       "      <td>NaN</td>\n",
       "      <td>NaN</td>\n",
       "      <td>NaN</td>\n",
       "      <td>NaN</td>\n",
       "      <td>NaN</td>\n",
       "      <td>NaN</td>\n",
       "    </tr>\n",
       "    <tr>\n",
       "      <th>1735</th>\n",
       "      <td>['coronavirus', 'ChinaPneumonia', 'AcademicCha...</td>\n",
       "      <td>[]</td>\n",
       "      <td>False</td>\n",
       "      <td>False</td>\n",
       "      <td>5</td>\n",
       "      <td>['https://twitter.com/WHO/status/1219317208205...</td>\n",
       "      <td>NaN</td>\n",
       "      <td>0</td>\n",
       "      <td>[]</td>\n",
       "      <td>0</td>\n",
       "      <td>...</td>\n",
       "      <td>{'tones': [{'score': 0.940706, 'tone_id': 'ana...</td>\n",
       "      <td>[{'sentence_id': 0, 'text': 'A novel strain of...</td>\n",
       "      <td>[{'score': 0.940706, 'tone_id': 'analytical', ...</td>\n",
       "      <td>NaN</td>\n",
       "      <td>NaN</td>\n",
       "      <td>1.0</td>\n",
       "      <td>NaN</td>\n",
       "      <td>NaN</td>\n",
       "      <td>1.0</td>\n",
       "      <td>NaN</td>\n",
       "    </tr>\n",
       "    <tr>\n",
       "      <th>1611</th>\n",
       "      <td>[]</td>\n",
       "      <td>[]</td>\n",
       "      <td>False</td>\n",
       "      <td>False</td>\n",
       "      <td>1</td>\n",
       "      <td>['https://www.theguardian.com/world/2020/jan/2...</td>\n",
       "      <td>NaN</td>\n",
       "      <td>0</td>\n",
       "      <td>[]</td>\n",
       "      <td>0</td>\n",
       "      <td>...</td>\n",
       "      <td>{'tones': [{'score': 0.882284, 'tone_id': 'ana...</td>\n",
       "      <td>NaN</td>\n",
       "      <td>[{'score': 0.882284, 'tone_id': 'analytical', ...</td>\n",
       "      <td>NaN</td>\n",
       "      <td>NaN</td>\n",
       "      <td>1.0</td>\n",
       "      <td>NaN</td>\n",
       "      <td>NaN</td>\n",
       "      <td>NaN</td>\n",
       "      <td>NaN</td>\n",
       "    </tr>\n",
       "    <tr>\n",
       "      <th>446</th>\n",
       "      <td>[]</td>\n",
       "      <td>[]</td>\n",
       "      <td>False</td>\n",
       "      <td>True</td>\n",
       "      <td>0</td>\n",
       "      <td>[]</td>\n",
       "      <td>1.219322e+18</td>\n",
       "      <td>0</td>\n",
       "      <td>[{'screen_name': 'ImStevenMoney', 'user_id': '...</td>\n",
       "      <td>0</td>\n",
       "      <td>...</td>\n",
       "      <td>{'tones': [{'score': 0.984352, 'tone_id': 'ten...</td>\n",
       "      <td>NaN</td>\n",
       "      <td>[{'score': 0.984352, 'tone_id': 'tentative', '...</td>\n",
       "      <td>NaN</td>\n",
       "      <td>NaN</td>\n",
       "      <td>NaN</td>\n",
       "      <td>NaN</td>\n",
       "      <td>NaN</td>\n",
       "      <td>1.0</td>\n",
       "      <td>NaN</td>\n",
       "    </tr>\n",
       "    <tr>\n",
       "      <th>254</th>\n",
       "      <td>[]</td>\n",
       "      <td>[]</td>\n",
       "      <td>False</td>\n",
       "      <td>False</td>\n",
       "      <td>1</td>\n",
       "      <td>['http://bit.ly/2RdzMM8']</td>\n",
       "      <td>NaN</td>\n",
       "      <td>0</td>\n",
       "      <td>[]</td>\n",
       "      <td>1</td>\n",
       "      <td>...</td>\n",
       "      <td>{'tones': [{'score': 0.575112, 'tone_id': 'ana...</td>\n",
       "      <td>NaN</td>\n",
       "      <td>[{'score': 0.575112, 'tone_id': 'analytical', ...</td>\n",
       "      <td>NaN</td>\n",
       "      <td>NaN</td>\n",
       "      <td>1.0</td>\n",
       "      <td>NaN</td>\n",
       "      <td>NaN</td>\n",
       "      <td>1.0</td>\n",
       "      <td>NaN</td>\n",
       "    </tr>\n",
       "    <tr>\n",
       "      <th>1467</th>\n",
       "      <td>[]</td>\n",
       "      <td>[]</td>\n",
       "      <td>False</td>\n",
       "      <td>False</td>\n",
       "      <td>0</td>\n",
       "      <td>['https://www.theguardian.com/world/2020/jan/2...</td>\n",
       "      <td>NaN</td>\n",
       "      <td>0</td>\n",
       "      <td>[]</td>\n",
       "      <td>1</td>\n",
       "      <td>...</td>\n",
       "      <td>{'tones': [{'score': 0.882284, 'tone_id': 'ana...</td>\n",
       "      <td>NaN</td>\n",
       "      <td>[{'score': 0.882284, 'tone_id': 'analytical', ...</td>\n",
       "      <td>NaN</td>\n",
       "      <td>NaN</td>\n",
       "      <td>1.0</td>\n",
       "      <td>NaN</td>\n",
       "      <td>NaN</td>\n",
       "      <td>NaN</td>\n",
       "      <td>NaN</td>\n",
       "    </tr>\n",
       "    <tr>\n",
       "      <th>1891</th>\n",
       "      <td>['CoronaVirus']</td>\n",
       "      <td>[]</td>\n",
       "      <td>False</td>\n",
       "      <td>False</td>\n",
       "      <td>3</td>\n",
       "      <td>[]</td>\n",
       "      <td>NaN</td>\n",
       "      <td>0</td>\n",
       "      <td>[]</td>\n",
       "      <td>1</td>\n",
       "      <td>...</td>\n",
       "      <td>{'tones': []}</td>\n",
       "      <td>[{'sentence_id': 0, 'text': \"A matter of time ...</td>\n",
       "      <td>[]</td>\n",
       "      <td>NaN</td>\n",
       "      <td>NaN</td>\n",
       "      <td>NaN</td>\n",
       "      <td>NaN</td>\n",
       "      <td>NaN</td>\n",
       "      <td>NaN</td>\n",
       "      <td>NaN</td>\n",
       "    </tr>\n",
       "  </tbody>\n",
       "</table>\n",
       "<p>10 rows × 32 columns</p>\n",
       "</div>"
      ],
      "text/plain": [
       "                                               hashtags  \\\n",
       "893                                                  []   \n",
       "356                                                  []   \n",
       "1977                                      ['SmartNews']   \n",
       "70    ['Emerging', 'Virus', 'Preparedness', 'wuhan',...   \n",
       "1735  ['coronavirus', 'ChinaPneumonia', 'AcademicCha...   \n",
       "1611                                                 []   \n",
       "446                                                  []   \n",
       "254                                                  []   \n",
       "1467                                                 []   \n",
       "1891                                    ['CoronaVirus']   \n",
       "\n",
       "                                               img_urls  is_replied  \\\n",
       "893   ['https://pbs.twimg.com/media/EOvaYfeU8AMCRZA....       False   \n",
       "356   ['https://pbs.twimg.com/media/EOwKklpU8AIZ9nH....        True   \n",
       "1977                                                 []       False   \n",
       "70                                                   []        True   \n",
       "1735                                                 []       False   \n",
       "1611                                                 []       False   \n",
       "446                                                  []       False   \n",
       "254                                                  []       False   \n",
       "1467                                                 []       False   \n",
       "1891                                                 []       False   \n",
       "\n",
       "      is_reply_to  likes                                              links  \\\n",
       "893         False      0                          ['http://dlvr.it/RNPhF1']   \n",
       "356         False      3                          ['http://dlvr.it/RNQG2t']   \n",
       "1977        False      1  ['https://www.reuters.com/article/us-china-hea...   \n",
       "70          False     15                                                 []   \n",
       "1735        False      5  ['https://twitter.com/WHO/status/1219317208205...   \n",
       "1611        False      1  ['https://www.theguardian.com/world/2020/jan/2...   \n",
       "446          True      0                                                 []   \n",
       "254         False      1                          ['http://bit.ly/2RdzMM8']   \n",
       "1467        False      0  ['https://www.theguardian.com/world/2020/jan/2...   \n",
       "1891        False      3                                                 []   \n",
       "\n",
       "      parent_tweet_id  replies  \\\n",
       "893               NaN        0   \n",
       "356               NaN        1   \n",
       "1977              NaN        0   \n",
       "70                NaN        2   \n",
       "1735              NaN        0   \n",
       "1611              NaN        0   \n",
       "446      1.219322e+18        0   \n",
       "254               NaN        0   \n",
       "1467              NaN        0   \n",
       "1891              NaN        0   \n",
       "\n",
       "                                         reply_to_users  retweets  ...  \\\n",
       "893                                                  []         0  ...   \n",
       "356                                                  []         4  ...   \n",
       "1977                                                 []         0  ...   \n",
       "70                                                   []         6  ...   \n",
       "1735                                                 []         0  ...   \n",
       "1611                                                 []         0  ...   \n",
       "446   [{'screen_name': 'ImStevenMoney', 'user_id': '...         0  ...   \n",
       "254                                                  []         1  ...   \n",
       "1467                                                 []         1  ...   \n",
       "1891                                                 []         1  ...   \n",
       "\n",
       "                                        document_tone.1  \\\n",
       "893   {'tones': [{'score': 0.955445, 'tone_id': 'ana...   \n",
       "356   {'tones': [{'score': 0.955445, 'tone_id': 'ana...   \n",
       "1977  {'tones': [{'score': 0.508467, 'tone_id': 'joy...   \n",
       "70                                        {'tones': []}   \n",
       "1735  {'tones': [{'score': 0.940706, 'tone_id': 'ana...   \n",
       "1611  {'tones': [{'score': 0.882284, 'tone_id': 'ana...   \n",
       "446   {'tones': [{'score': 0.984352, 'tone_id': 'ten...   \n",
       "254   {'tones': [{'score': 0.575112, 'tone_id': 'ana...   \n",
       "1467  {'tones': [{'score': 0.882284, 'tone_id': 'ana...   \n",
       "1891                                      {'tones': []}   \n",
       "\n",
       "                                       sentences_tone.1  \\\n",
       "893                                                 NaN   \n",
       "356                                                 NaN   \n",
       "1977                                                NaN   \n",
       "70    [{'sentence_id': 0, 'text': 'Where is #Emergin...   \n",
       "1735  [{'sentence_id': 0, 'text': 'A novel strain of...   \n",
       "1611                                                NaN   \n",
       "446                                                 NaN   \n",
       "254                                                 NaN   \n",
       "1467                                                NaN   \n",
       "1891  [{'sentence_id': 0, 'text': \"A matter of time ...   \n",
       "\n",
       "                                         document_tones fear  confident  \\\n",
       "893   [{'score': 0.955445, 'tone_id': 'analytical', ...  NaN        NaN   \n",
       "356   [{'score': 0.955445, 'tone_id': 'analytical', ...  NaN        NaN   \n",
       "1977  [{'score': 0.508467, 'tone_id': 'joy', 'tone_n...  NaN        NaN   \n",
       "70                                                   []  NaN        NaN   \n",
       "1735  [{'score': 0.940706, 'tone_id': 'analytical', ...  NaN        NaN   \n",
       "1611  [{'score': 0.882284, 'tone_id': 'analytical', ...  NaN        NaN   \n",
       "446   [{'score': 0.984352, 'tone_id': 'tentative', '...  NaN        NaN   \n",
       "254   [{'score': 0.575112, 'tone_id': 'analytical', ...  NaN        NaN   \n",
       "1467  [{'score': 0.882284, 'tone_id': 'analytical', ...  NaN        NaN   \n",
       "1891                                                 []  NaN        NaN   \n",
       "\n",
       "      analytical sadness  joy tentative  anger  \n",
       "893          1.0     NaN  NaN       NaN    NaN  \n",
       "356          1.0     NaN  NaN       NaN    NaN  \n",
       "1977         1.0     NaN  1.0       NaN    NaN  \n",
       "70           NaN     NaN  NaN       NaN    NaN  \n",
       "1735         1.0     NaN  NaN       1.0    NaN  \n",
       "1611         1.0     NaN  NaN       NaN    NaN  \n",
       "446          NaN     NaN  NaN       1.0    NaN  \n",
       "254          1.0     NaN  NaN       1.0    NaN  \n",
       "1467         1.0     NaN  NaN       NaN    NaN  \n",
       "1891         NaN     NaN  NaN       NaN    NaN  \n",
       "\n",
       "[10 rows x 32 columns]"
      ]
     },
     "execution_count": 6,
     "metadata": {},
     "output_type": "execute_result"
    }
   ],
   "source": [
    "df = pd.read_csv(\"/home/varsha/Desktop/presentation/training_data.csv\")\n",
    "print('Number of training sentences: {:,}\\n'.format(df.shape[0]))\n",
    "df.sample(10)"
   ]
  },
  {
   "cell_type": "code",
   "execution_count": 7,
   "metadata": {
    "colab": {},
    "colab_type": "code",
    "id": "uhkKreHjBkXK"
   },
   "outputs": [
    {
     "name": "stderr",
     "output_type": "stream",
     "text": [
      "/home/varsha/anaconda3/lib/python3.7/site-packages/pandas/core/generic.py:5303: SettingWithCopyWarning: \n",
      "A value is trying to be set on a copy of a slice from a DataFrame.\n",
      "Try using .loc[row_indexer,col_indexer] = value instead\n",
      "\n",
      "See the caveats in the documentation: https://pandas.pydata.org/pandas-docs/stable/user_guide/indexing.html#returning-a-view-versus-a-copy\n",
      "  self[name] = value\n"
     ]
    }
   ],
   "source": [
    "anger = df[['clean_text','anger']]\n",
    "anger.anger = [np.nan_to_num(x) for x in anger['anger']]\n",
    "anger = anger.astype({\"anger\": int})"
   ]
  },
  {
   "cell_type": "code",
   "execution_count": 8,
   "metadata": {
    "colab": {},
    "colab_type": "code",
    "id": "mfs0yaLVCIc5"
   },
   "outputs": [
    {
     "data": {
      "text/html": [
       "<div>\n",
       "<style scoped>\n",
       "    .dataframe tbody tr th:only-of-type {\n",
       "        vertical-align: middle;\n",
       "    }\n",
       "\n",
       "    .dataframe tbody tr th {\n",
       "        vertical-align: top;\n",
       "    }\n",
       "\n",
       "    .dataframe thead th {\n",
       "        text-align: right;\n",
       "    }\n",
       "</style>\n",
       "<table border=\"1\" class=\"dataframe\">\n",
       "  <thead>\n",
       "    <tr style=\"text-align: right;\">\n",
       "      <th></th>\n",
       "      <th>clean_text</th>\n",
       "      <th>anger</th>\n",
       "    </tr>\n",
       "  </thead>\n",
       "  <tbody>\n",
       "    <tr>\n",
       "      <th>774</th>\n",
       "      <td>Indian School Teacher in Shenzhen to Contract ...</td>\n",
       "      <td>0</td>\n",
       "    </tr>\n",
       "    <tr>\n",
       "      <th>40</th>\n",
       "      <td>U.S. begins airport screenings as coronavirus ...</td>\n",
       "      <td>0</td>\n",
       "    </tr>\n",
       "    <tr>\n",
       "      <th>1433</th>\n",
       "      <td>China confirms human-to-human transmission of ...</td>\n",
       "      <td>0</td>\n",
       "    </tr>\n",
       "    <tr>\n",
       "      <th>361</th>\n",
       "      <td>Three Chinese quarantined in Kalibo for suspec...</td>\n",
       "      <td>0</td>\n",
       "    </tr>\n",
       "    <tr>\n",
       "      <th>183</th>\n",
       "      <td>#Latest #NewsPlus: Mysterious #coronavirus: #W...</td>\n",
       "      <td>0</td>\n",
       "    </tr>\n",
       "    <tr>\n",
       "      <th>1953</th>\n",
       "      <td>Coronavirus spreads to Beijing as China confir...</td>\n",
       "      <td>0</td>\n",
       "    </tr>\n",
       "    <tr>\n",
       "      <th>342</th>\n",
       "      <td>China confirms human-to-human transmission of ...</td>\n",
       "      <td>0</td>\n",
       "    </tr>\n",
       "    <tr>\n",
       "      <th>1555</th>\n",
       "      <td>UPDATE: Human-to-human transmission confirmed ...</td>\n",
       "      <td>0</td>\n",
       "    </tr>\n",
       "    <tr>\n",
       "      <th>1567</th>\n",
       "      <td>China is confrontet with a dangerous virus.....</td>\n",
       "      <td>0</td>\n",
       "    </tr>\n",
       "    <tr>\n",
       "      <th>1523</th>\n",
       "      <td>My Corona (virus)\\n-The Knack</td>\n",
       "      <td>0</td>\n",
       "    </tr>\n",
       "  </tbody>\n",
       "</table>\n",
       "</div>"
      ],
      "text/plain": [
       "                                             clean_text  anger\n",
       "774   Indian School Teacher in Shenzhen to Contract ...      0\n",
       "40    U.S. begins airport screenings as coronavirus ...      0\n",
       "1433  China confirms human-to-human transmission of ...      0\n",
       "361   Three Chinese quarantined in Kalibo for suspec...      0\n",
       "183   #Latest #NewsPlus: Mysterious #coronavirus: #W...      0\n",
       "1953  Coronavirus spreads to Beijing as China confir...      0\n",
       "342   China confirms human-to-human transmission of ...      0\n",
       "1555  UPDATE: Human-to-human transmission confirmed ...      0\n",
       "1567    China is confrontet with a dangerous virus.....      0\n",
       "1523                      My Corona (virus)\\n-The Knack      0"
      ]
     },
     "execution_count": 8,
     "metadata": {},
     "output_type": "execute_result"
    }
   ],
   "source": [
    "anger.sample(10)"
   ]
  },
  {
   "cell_type": "code",
   "execution_count": 9,
   "metadata": {
    "colab": {},
    "colab_type": "code",
    "id": "Jl-Rly_XMob0"
   },
   "outputs": [],
   "source": [
    "sentences = anger.clean_text.values\n",
    "labels = anger.anger.values"
   ]
  },
  {
   "cell_type": "code",
   "execution_count": 10,
   "metadata": {
    "colab": {
     "base_uri": "https://localhost:8080/",
     "height": 35
    },
    "colab_type": "code",
    "executionInfo": {
     "elapsed": 666,
     "status": "ok",
     "timestamp": 1586851588057,
     "user": {
      "displayName": "Zichuang Xie",
      "photoUrl": "",
      "userId": "08982348595392357027"
     },
     "user_tz": 420
    },
    "id": "8ErbX-5iNhcb",
    "outputId": "08f2955b-275d-413d-c271-041e36f27d18"
   },
   "outputs": [
    {
     "name": "stdout",
     "output_type": "stream",
     "text": [
      "Loading BERT tokenizer...\n"
     ]
    }
   ],
   "source": [
    "from transformers import BertTokenizer\n",
    "print('Loading BERT tokenizer...')\n",
    "tokenizer = BertTokenizer.from_pretrained('bert-base-uncased', do_lower_case=True)"
   ]
  },
  {
   "cell_type": "code",
   "execution_count": 11,
   "metadata": {
    "colab": {
     "base_uri": "https://localhost:8080/",
     "height": 89
    },
    "colab_type": "code",
    "executionInfo": {
     "elapsed": 292,
     "status": "ok",
     "timestamp": 1586851590820,
     "user": {
      "displayName": "Zichuang Xie",
      "photoUrl": "",
      "userId": "08982348595392357027"
     },
     "user_tz": 420
    },
    "id": "ry_n3qifNnXM",
    "outputId": "2d63f052-e3ed-4154-ab35-5923eedb652e"
   },
   "outputs": [
    {
     "name": "stdout",
     "output_type": "stream",
     "text": [
      " Original:  Calmly panic buy all the tamiflu. #coronavirus\n",
      "Tokenized:  ['calmly', 'panic', 'buy', 'all', 'the', 'tam', '##if', '##lu', '.', '#', 'corona', '##virus']\n",
      "Token IDs:  [12885, 6634, 4965, 2035, 1996, 17214, 10128, 7630, 1012, 1001, 21887, 23350]\n"
     ]
    }
   ],
   "source": [
    "print(' Original: ', sentences[0])\n",
    "print('Tokenized: ', tokenizer.tokenize(sentences[0]))\n",
    "print('Token IDs: ', tokenizer.convert_tokens_to_ids(tokenizer.tokenize(sentences[0])))"
   ]
  },
  {
   "cell_type": "markdown",
   "metadata": {
    "colab_type": "text",
    "id": "l6w8elb-58GJ"
   },
   "source": [
    "## Sentences to IDs"
   ]
  },
  {
   "cell_type": "code",
   "execution_count": 12,
   "metadata": {
    "colab": {
     "base_uri": "https://localhost:8080/",
     "height": 72
    },
    "colab_type": "code",
    "executionInfo": {
     "elapsed": 7406,
     "status": "ok",
     "timestamp": 1586851601088,
     "user": {
      "displayName": "Zichuang Xie",
      "photoUrl": "",
      "userId": "08982348595392357027"
     },
     "user_tz": 420
    },
    "id": "jUBPDnPmNp9p",
    "outputId": "abb17676-f7c1-4515-f2b6-7f1fd818f2c5"
   },
   "outputs": [
    {
     "name": "stdout",
     "output_type": "stream",
     "text": [
      "Original:  Calmly panic buy all the tamiflu. #coronavirus\n",
      "Token IDs: [101, 12885, 6634, 4965, 2035, 1996, 17214, 10128, 7630, 1012, 1001, 21887, 23350, 102]\n"
     ]
    }
   ],
   "source": [
    "input_ids = []\n",
    "for sent in sentences:\n",
    "    encoded_sent = tokenizer.encode(\n",
    "                        sent,  \n",
    "                        add_special_tokens = True, \n",
    "\n",
    "                              )\n",
    "    input_ids.append(encoded_sent)\n",
    "\n",
    "print('Original: ', sentences[0])\n",
    "print('Token IDs:', input_ids[0])"
   ]
  },
  {
   "cell_type": "markdown",
   "metadata": {
    "colab_type": "text",
    "id": "lYWEQk5nObfD"
   },
   "source": [
    "## Padding & Truncating"
   ]
  },
  {
   "cell_type": "code",
   "execution_count": 13,
   "metadata": {
    "colab": {
     "base_uri": "https://localhost:8080/",
     "height": 35
    },
    "colab_type": "code",
    "executionInfo": {
     "elapsed": 453,
     "status": "ok",
     "timestamp": 1586851627989,
     "user": {
      "displayName": "Zichuang Xie",
      "photoUrl": "",
      "userId": "08982348595392357027"
     },
     "user_tz": 420
    },
    "id": "u9-KLCGmN6xB",
    "outputId": "988509f0-9ff8-48b6-b7d8-5f158a50fcce"
   },
   "outputs": [
    {
     "name": "stdout",
     "output_type": "stream",
     "text": [
      "Max sentence length:  123\n"
     ]
    }
   ],
   "source": [
    "print('Max sentence length: ', max([len(sen) for sen in input_ids]))"
   ]
  },
  {
   "cell_type": "code",
   "execution_count": 14,
   "metadata": {
    "colab": {
     "base_uri": "https://localhost:8080/",
     "height": 121
    },
    "colab_type": "code",
    "executionInfo": {
     "elapsed": 385,
     "status": "ok",
     "timestamp": 1586851634395,
     "user": {
      "displayName": "Zichuang Xie",
      "photoUrl": "",
      "userId": "08982348595392357027"
     },
     "user_tz": 420
    },
    "id": "TPqkrKZkOCI_",
    "outputId": "16191236-ad7d-4fda-edca-3b87792140e7"
   },
   "outputs": [
    {
     "name": "stderr",
     "output_type": "stream",
     "text": [
      "Using TensorFlow backend.\n"
     ]
    },
    {
     "name": "stdout",
     "output_type": "stream",
     "text": [
      "\n",
      "Padding/truncating all sentences to 200 values...\n",
      "\n",
      "Padding token: \"[PAD]\", ID: 0\n",
      "\n",
      "Done.\n"
     ]
    }
   ],
   "source": [
    "from keras.preprocessing.sequence import pad_sequences\n",
    "\n",
    "MAX_LEN = 200\n",
    "\n",
    "print('\\nPadding/truncating all sentences to %d values...' % MAX_LEN)\n",
    "\n",
    "print('\\nPadding token: \"{:}\", ID: {:}'.format(tokenizer.pad_token, tokenizer.pad_token_id))\n",
    "\n",
    "input_ids = pad_sequences(input_ids, maxlen=MAX_LEN, dtype=\"long\", \n",
    "                          value=0, truncating=\"post\", padding=\"post\")\n",
    "\n",
    "print('\\nDone.')"
   ]
  },
  {
   "cell_type": "markdown",
   "metadata": {
    "colab_type": "text",
    "id": "LGJG2x8EOidw"
   },
   "source": [
    "## Attention Masks"
   ]
  },
  {
   "cell_type": "code",
   "execution_count": 15,
   "metadata": {
    "colab": {},
    "colab_type": "code",
    "id": "PHZbsYeSOQoC"
   },
   "outputs": [],
   "source": [
    "attention_masks = []\n",
    "\n",
    "for sent in input_ids:\n",
    "    \n",
    "    att_mask = [int(token_id > 0) for token_id in sent]\n",
    "    \n",
    "    attention_masks.append(att_mask)"
   ]
  },
  {
   "cell_type": "markdown",
   "metadata": {
    "colab_type": "text",
    "id": "AUMyoyvHOo9H"
   },
   "source": [
    "## Train/validation Split"
   ]
  },
  {
   "cell_type": "code",
   "execution_count": 16,
   "metadata": {
    "colab": {},
    "colab_type": "code",
    "id": "TDHA8AcxOmK4"
   },
   "outputs": [],
   "source": [
    "from sklearn.model_selection import train_test_split\n",
    "train_inputs, validation_inputs, train_labels, validation_labels = train_test_split(input_ids, labels, \n",
    "                                            random_state=1999, test_size=0.1)\n",
    "train_masks, validation_masks, _, _ = train_test_split(attention_masks, labels,\n",
    "                              random_state=1999, test_size=0.1)"
   ]
  },
  {
   "cell_type": "markdown",
   "metadata": {
    "colab_type": "text",
    "id": "pcVP5QjoPTd-"
   },
   "source": [
    "\n",
    "## Converting to Pytorch Form"
   ]
  },
  {
   "cell_type": "code",
   "execution_count": 17,
   "metadata": {
    "colab": {},
    "colab_type": "code",
    "id": "aqXY3OPbPNSm"
   },
   "outputs": [],
   "source": [
    "train_inputs = torch.tensor(train_inputs)\n",
    "validation_inputs = torch.tensor(validation_inputs)\n",
    "\n",
    "train_labels = torch.tensor(train_labels)\n",
    "validation_labels = torch.tensor(validation_labels)\n",
    "\n",
    "train_masks = torch.tensor(train_masks)\n",
    "validation_masks = torch.tensor(validation_masks)"
   ]
  },
  {
   "cell_type": "code",
   "execution_count": 18,
   "metadata": {
    "colab": {},
    "colab_type": "code",
    "id": "Xf82JfnZPZOm"
   },
   "outputs": [],
   "source": [
    "from torch.utils.data import TensorDataset, DataLoader, RandomSampler, SequentialSampler\n",
    "\n",
    "batch_size = 16\n",
    "train_data = TensorDataset(train_inputs, train_masks, train_labels)\n",
    "train_sampler = RandomSampler(train_data)\n",
    "train_dataloader = DataLoader(train_data, sampler=train_sampler, batch_size=batch_size)\n",
    "validation_data = TensorDataset(validation_inputs, validation_masks, validation_labels)\n",
    "validation_sampler = SequentialSampler(validation_data)\n",
    "validation_dataloader = DataLoader(validation_data, sampler=validation_sampler, batch_size=batch_size)\n"
   ]
  },
  {
   "cell_type": "markdown",
   "metadata": {
    "colab_type": "text",
    "id": "v33eEBtpPg41"
   },
   "source": [
    "# Modeling"
   ]
  },
  {
   "cell_type": "code",
   "execution_count": 20,
   "metadata": {
    "colab": {},
    "colab_type": "code",
    "id": "D9TuWSa3PefG"
   },
   "outputs": [
    {
     "name": "stderr",
     "output_type": "stream",
     "text": [
      "Some weights of the model checkpoint at bert-base-uncased were not used when initializing BertForSequenceClassification: ['cls.predictions.bias', 'cls.predictions.transform.dense.weight', 'cls.predictions.transform.dense.bias', 'cls.predictions.decoder.weight', 'cls.seq_relationship.weight', 'cls.seq_relationship.bias', 'cls.predictions.transform.LayerNorm.weight', 'cls.predictions.transform.LayerNorm.bias']\n",
      "- This IS expected if you are initializing BertForSequenceClassification from the checkpoint of a model trained on another task or with another architecture (e.g. initializing a BertForSequenceClassification model from a BertForPretraining model).\n",
      "- This IS NOT expected if you are initializing BertForSequenceClassification from the checkpoint of a model that you expect to be exactly identical (initializing a BertForSequenceClassification model from a BertForSequenceClassification model).\n",
      "Some weights of BertForSequenceClassification were not initialized from the model checkpoint at bert-base-uncased and are newly initialized: ['classifier.weight', 'classifier.bias']\n",
      "You should probably TRAIN this model on a down-stream task to be able to use it for predictions and inference.\n"
     ]
    }
   ],
   "source": [
    "from transformers import BertForSequenceClassification, AdamW, BertConfig\n",
    "model = BertForSequenceClassification.from_pretrained(\n",
    "    \"bert-base-uncased\", \n",
    "    num_labels = 2,    \n",
    "    output_attentions = False, \n",
    "    output_hidden_states = False, \n",
    ")"
   ]
  },
  {
   "cell_type": "markdown",
   "metadata": {
    "colab_type": "text",
    "id": "TnneE0Q4QFD_"
   },
   "source": [
    "## Set Optimizer and Learning Rate"
   ]
  },
  {
   "cell_type": "code",
   "execution_count": 21,
   "metadata": {
    "colab": {},
    "colab_type": "code",
    "id": "ecsQWY-XPnvR"
   },
   "outputs": [],
   "source": [
    "optimizer = AdamW(model.parameters(),\n",
    "                  lr = 5e-5, \n",
    "                  eps = 1e-8 \n",
    "                )\n"
   ]
  },
  {
   "cell_type": "code",
   "execution_count": 22,
   "metadata": {
    "colab": {},
    "colab_type": "code",
    "id": "w8jM1XwrP9R4"
   },
   "outputs": [],
   "source": [
    "from transformers import get_linear_schedule_with_warmup\n",
    "epochs = 4\n",
    "\n",
    "total_steps = len(train_dataloader) * epochs\n",
    "\n",
    "scheduler = get_linear_schedule_with_warmup(optimizer, \n",
    "                       num_warmup_steps = 0, \n",
    "                       num_training_steps = total_steps)"
   ]
  },
  {
   "cell_type": "markdown",
   "metadata": {
    "colab_type": "text",
    "id": "h7hl2qYVQKXC"
   },
   "source": [
    "## Training Loop"
   ]
  },
  {
   "cell_type": "code",
   "execution_count": 23,
   "metadata": {
    "colab": {},
    "colab_type": "code",
    "id": "MFFrud2NQBm9"
   },
   "outputs": [],
   "source": [
    "import numpy as np\n",
    "def flat_accuracy(preds, labels):\n",
    "    pred_flat = np.argmax(preds, axis=1).flatten()\n",
    "    labels_flat = labels.flatten()\n",
    "    return np.sum(pred_flat == labels_flat) / len(labels_flat)"
   ]
  },
  {
   "cell_type": "code",
   "execution_count": 24,
   "metadata": {
    "colab": {},
    "colab_type": "code",
    "id": "ekKg0-2FQN_w"
   },
   "outputs": [],
   "source": [
    "import time\n",
    "import datetime\n",
    "\n",
    "def format_time(elapsed):\n",
    "    \n",
    "    elapsed_rounded = int(round((elapsed)))\n",
    "    \n",
    "    return str(datetime.timedelta(seconds=elapsed_rounded))\n"
   ]
  },
  {
   "cell_type": "code",
   "execution_count": 0,
   "metadata": {
    "colab": {
     "base_uri": "https://localhost:8080/",
     "height": 1000
    },
    "colab_type": "code",
    "executionInfo": {
     "elapsed": 764692,
     "status": "ok",
     "timestamp": 1586853800776,
     "user": {
      "displayName": "Zichuang Xie",
      "photoUrl": "",
      "userId": "08982348595392357027"
     },
     "user_tz": 420
    },
    "id": "FxAt4zFNQRVG",
    "outputId": "61bd7e8f-7e8d-4eab-ac8e-b8b3a9f46cb8"
   },
   "outputs": [
    {
     "name": "stdout",
     "output_type": "stream",
     "text": [
      "\n",
      "======== Epoch 1 / 4 ========\n",
      "Training...\n",
      "  Batch    40  of    768.    Elapsed: 0:00:26.\n",
      "  Batch    80  of    768.    Elapsed: 0:00:52.\n",
      "  Batch   120  of    768.    Elapsed: 0:01:19.\n",
      "  Batch   160  of    768.    Elapsed: 0:01:45.\n",
      "  Batch   200  of    768.    Elapsed: 0:02:12.\n",
      "  Batch   240  of    768.    Elapsed: 0:02:39.\n",
      "  Batch   280  of    768.    Elapsed: 0:03:06.\n",
      "  Batch   320  of    768.    Elapsed: 0:03:33.\n",
      "  Batch   360  of    768.    Elapsed: 0:04:00.\n",
      "  Batch   400  of    768.    Elapsed: 0:04:26.\n",
      "  Batch   440  of    768.    Elapsed: 0:04:53.\n",
      "  Batch   480  of    768.    Elapsed: 0:05:20.\n",
      "  Batch   520  of    768.    Elapsed: 0:05:47.\n",
      "  Batch   560  of    768.    Elapsed: 0:06:14.\n",
      "  Batch   600  of    768.    Elapsed: 0:06:41.\n",
      "  Batch   640  of    768.    Elapsed: 0:07:08.\n",
      "  Batch   680  of    768.    Elapsed: 0:07:35.\n",
      "  Batch   720  of    768.    Elapsed: 0:08:01.\n",
      "  Batch   760  of    768.    Elapsed: 0:08:28.\n",
      "\n",
      "  Average training loss: 0.50\n",
      "  Training epcoh took: 0:08:33\n",
      "\n",
      "Running Validation...\n",
      "  Accuracy: 0.85\n",
      "  Validation took: 0:00:18\n",
      "\n",
      "======== Epoch 2 / 4 ========\n",
      "Training...\n",
      "  Batch    40  of    768.    Elapsed: 0:00:27.\n",
      "  Batch    80  of    768.    Elapsed: 0:00:54.\n",
      "  Batch   120  of    768.    Elapsed: 0:01:21.\n",
      "  Batch   160  of    768.    Elapsed: 0:01:48.\n",
      "  Batch   200  of    768.    Elapsed: 0:02:14.\n",
      "  Batch   240  of    768.    Elapsed: 0:02:41.\n",
      "  Batch   280  of    768.    Elapsed: 0:03:08.\n",
      "  Batch   320  of    768.    Elapsed: 0:03:35.\n",
      "  Batch   360  of    768.    Elapsed: 0:04:02.\n",
      "  Batch   400  of    768.    Elapsed: 0:04:29.\n",
      "  Batch   440  of    768.    Elapsed: 0:04:56.\n",
      "  Batch   480  of    768.    Elapsed: 0:05:23.\n",
      "  Batch   520  of    768.    Elapsed: 0:05:49.\n",
      "  Batch   560  of    768.    Elapsed: 0:06:16.\n",
      "  Batch   600  of    768.    Elapsed: 0:06:43.\n",
      "  Batch   640  of    768.    Elapsed: 0:07:10.\n",
      "  Batch   680  of    768.    Elapsed: 0:07:37.\n",
      "  Batch   720  of    768.    Elapsed: 0:08:04.\n",
      "  Batch   760  of    768.    Elapsed: 0:08:31.\n",
      "\n",
      "  Average training loss: 0.26\n",
      "  Training epcoh took: 0:08:36\n",
      "\n",
      "Running Validation...\n",
      "  Accuracy: 0.87\n",
      "  Validation took: 0:00:18\n",
      "\n",
      "======== Epoch 3 / 4 ========\n",
      "Training...\n",
      "  Batch    40  of    768.    Elapsed: 0:00:27.\n",
      "  Batch    80  of    768.    Elapsed: 0:00:54.\n",
      "  Batch   120  of    768.    Elapsed: 0:01:20.\n",
      "  Batch   160  of    768.    Elapsed: 0:01:47.\n",
      "  Batch   200  of    768.    Elapsed: 0:02:14.\n",
      "  Batch   240  of    768.    Elapsed: 0:02:41.\n",
      "  Batch   280  of    768.    Elapsed: 0:03:08.\n",
      "  Batch   320  of    768.    Elapsed: 0:03:35.\n",
      "  Batch   360  of    768.    Elapsed: 0:04:02.\n",
      "  Batch   400  of    768.    Elapsed: 0:04:29.\n",
      "  Batch   440  of    768.    Elapsed: 0:04:55.\n",
      "  Batch   480  of    768.    Elapsed: 0:05:22.\n",
      "  Batch   520  of    768.    Elapsed: 0:05:49.\n",
      "  Batch   560  of    768.    Elapsed: 0:06:16.\n",
      "  Batch   600  of    768.    Elapsed: 0:06:43.\n",
      "  Batch   640  of    768.    Elapsed: 0:07:10.\n",
      "  Batch   680  of    768.    Elapsed: 0:07:37.\n",
      "  Batch   720  of    768.    Elapsed: 0:08:04.\n",
      "  Batch   760  of    768.    Elapsed: 0:08:30.\n",
      "\n",
      "  Average training loss: 0.14\n",
      "  Training epcoh took: 0:08:36\n",
      "\n",
      "Running Validation...\n",
      "  Accuracy: 0.88\n",
      "  Validation took: 0:00:18\n",
      "\n",
      "======== Epoch 4 / 4 ========\n",
      "Training...\n",
      "  Batch    40  of    768.    Elapsed: 0:00:27.\n",
      "  Batch    80  of    768.    Elapsed: 0:00:54.\n",
      "  Batch   120  of    768.    Elapsed: 0:01:20.\n",
      "  Batch   160  of    768.    Elapsed: 0:01:47.\n",
      "  Batch   200  of    768.    Elapsed: 0:02:14.\n",
      "  Batch   240  of    768.    Elapsed: 0:02:41.\n",
      "  Batch   280  of    768.    Elapsed: 0:03:07.\n",
      "  Batch   320  of    768.    Elapsed: 0:03:34.\n",
      "  Batch   360  of    768.    Elapsed: 0:04:01.\n",
      "  Batch   400  of    768.    Elapsed: 0:04:28.\n",
      "  Batch   440  of    768.    Elapsed: 0:04:55.\n",
      "  Batch   480  of    768.    Elapsed: 0:05:21.\n",
      "  Batch   520  of    768.    Elapsed: 0:05:48.\n",
      "  Batch   560  of    768.    Elapsed: 0:06:15.\n",
      "  Batch   600  of    768.    Elapsed: 0:06:42.\n",
      "  Batch   640  of    768.    Elapsed: 0:07:09.\n",
      "  Batch   680  of    768.    Elapsed: 0:07:35.\n",
      "  Batch   720  of    768.    Elapsed: 0:08:02.\n",
      "  Batch   760  of    768.    Elapsed: 0:08:29.\n",
      "\n",
      "  Average training loss: 0.06\n",
      "  Training epcoh took: 0:08:34\n",
      "\n",
      "Running Validation...\n",
      "  Accuracy: 0.89\n",
      "  Validation took: 0:00:18\n",
      "\n",
      "Training complete!\n"
     ]
    }
   ],
   "source": [
    "import random\n",
    "\n",
    "seed_val = 18\n",
    "\n",
    "random.seed(seed_val)\n",
    "np.random.seed(seed_val)\n",
    "torch.manual_seed(seed_val)\n",
    "torch.cuda.manual_seed_all(seed_val)\n",
    "loss_values = []\n",
    "for epoch_i in range(0, epochs):\n",
    "\n",
    "    print(\"\")\n",
    "    print('======== Epoch {:} / {:} ========'.format(epoch_i + 1, epochs))\n",
    "    print('Training...')\n",
    "    t0 = time.time()\n",
    "    total_loss = 0\n",
    "    model.train()\n",
    "    for step, batch in enumerate(train_dataloader):\n",
    "\n",
    "        if step % 40 == 0 and not step == 0:\n",
    "            elapsed = format_time(time.time() - t0)\n",
    "            \n",
    "            print('  Batch {:>5,}  of  {:>5,}.    Elapsed: {:}.'.format(step, len(train_dataloader), elapsed))\n",
    "        b_input_ids = batch[0].to(device)\n",
    "        b_input_mask = batch[1].to(device)\n",
    "        b_labels = batch[2].to(device)\n",
    "        model.zero_grad()        \n",
    "        outputs = model(b_input_ids, \n",
    "                    token_type_ids=None, \n",
    "                    attention_mask=b_input_mask, \n",
    "                    labels=b_labels)\n",
    "        \n",
    "       \n",
    "        loss = outputs[0]\n",
    "        total_loss += loss.item()\n",
    "        loss.backward()\n",
    "        torch.nn.utils.clip_grad_norm_(model.parameters(), 1.0)\n",
    "        optimizer.step()\n",
    "\n",
    "        scheduler.step()\n",
    "    avg_train_loss = total_loss / len(train_dataloader)            \n",
    "    \n",
    "    loss_values.append(avg_train_loss)\n",
    "\n",
    "    print(\"\")\n",
    "    print(\"  Average training loss: {0:.2f}\".format(avg_train_loss))\n",
    "    print(\"  Training epcoh took: {:}\".format(format_time(time.time() - t0)\n",
    "    print(\"\")\n",
    "    print(\"Running Validation...\")\n",
    "\n",
    "    t0 = time.time()\n",
    "    model.eval()\n",
    "    eval_loss, eval_accuracy = 0, 0\n",
    "    nb_eval_steps, nb_eval_examples = 0, 0\n",
    "\n",
    "    for batch in validation_dataloader:\n",
    "        \n",
    "        batch = tuple(t.to(device) for t in batch)\n",
    "        \n",
    "        b_input_ids, b_input_mask, b_labels = batch\n",
    "        \n",
    "        with torch.no_grad():        \n",
    "\n",
    "            ation\n",
    "            outputs = model(b_input_ids, \n",
    "                            token_type_ids=None, \n",
    "                            attention_mask=b_input_mask)\n",
    "        \n",
    "        \n",
    "        logits = outputs[0]\n",
    "\n",
    "    \n",
    "        logits = logits.detach().cpu().numpy()\n",
    "        label_ids = b_labels.to('cpu').numpy()\n",
    "        tmp_eval_accuracy = flat_accuracy(logits, label_ids)\n",
    "        \n",
    "        eval_accuracy += tmp_eval_accuracy\n",
    "\n",
    "        nb_eval_steps += 1\n",
    "    print(\"  Accuracy: {0:.2f}\".format(eval_accuracy/nb_eval_steps))\n",
    "    print(\"  Validation took: {:}\".format(format_time(time.time() - t0)))\n",
    "\n",
    "print(\"\")\n",
    "print(\"Training complete!\")"
   ]
  },
  {
   "cell_type": "markdown",
   "metadata": {
    "colab_type": "text",
    "id": "ophvlNgxSuNT"
   },
   "source": [
    "## Plot Loss"
   ]
  },
  {
   "cell_type": "code",
   "execution_count": 0,
   "metadata": {
    "colab": {
     "base_uri": "https://localhost:8080/",
     "height": 482
    },
    "colab_type": "code",
    "executionInfo": {
     "elapsed": 953,
     "status": "ok",
     "timestamp": 1586842434749,
     "user": {
      "displayName": "Zichuang Xie",
      "photoUrl": "",
      "userId": "08982348595392357027"
     },
     "user_tz": 420
    },
    "id": "-RQMCrQEQaCF",
    "outputId": "cdb4b3d5-ec02-46f9-bc71-5fb580a82f2a"
   },
   "outputs": [
    {
     "name": "stderr",
     "output_type": "stream",
     "text": [
      "/usr/local/lib/python3.6/dist-packages/statsmodels/tools/_testing.py:19: FutureWarning: pandas.util.testing is deprecated. Use the functions in the public API at pandas.testing instead.\n",
      "  import pandas.util.testing as tm\n"
     ]
    },
    {
     "data": {
      "image/png": "[encoded data removed]",
      "text/plain": [
       "<Figure size 864x432 with 1 Axes>"
      ]
     },
     "metadata": {
      "tags": []
     },
     "output_type": "display_data"
    }
   ],
   "source": [
    "import matplotlib.pyplot as plt\n",
    "% matplotlib inline\n",
    "\n",
    "import seaborn as sns\n",
    "sns.set(style='darkgrid')\n",
    "sns.set(font_scale=1.5)\n",
    "plt.rcParams[\"figure.figsize\"] = (12,6)\n",
    "plt.plot(loss_values, 'b-o')\n",
    "plt.title(\"Training loss\")\n",
    "plt.xlabel(\"Epoch\")\n",
    "plt.ylabel(\"Loss\")\n",
    "\n",
    "plt.show()"
   ]
  },
  {
   "cell_type": "markdown",
   "metadata": {
    "colab_type": "text",
    "id": "GY6SptSQZZ1l"
   },
   "source": [
    "# Perform on Test"
   ]
  },
  {
   "cell_type": "code",
   "execution_count": 0,
   "metadata": {
    "colab": {
     "base_uri": "https://localhost:8080/",
     "height": 52
    },
    "colab_type": "code",
    "executionInfo": {
     "elapsed": 650,
     "status": "ok",
     "timestamp": 1586842606758,
     "user": {
      "displayName": "Zichuang Xie",
      "photoUrl": "",
      "userId": "08982348595392357027"
     },
     "user_tz": 420
    },
    "id": "-KaJNZmgaOp4",
    "outputId": "4834550e-596b-4b1d-9ffc-10e3c2f55118"
   },
   "outputs": [
    {
     "name": "stdout",
     "output_type": "stream",
     "text": [
      "Number of test sentences: 12,000\n",
      "\n"
     ]
    }
   ],
   "source": [
    "import pandas as pd\n",
    "df = pd.read_csv(\"/content/test_data_2.csv\")\n",
    "print('Number of test sentences: {:,}\\n'.format(df.shape[0]))\n",
    "anger = df[['clean_text','anger']]"
   ]
  },
  {
   "cell_type": "code",
   "execution_count": 0,
   "metadata": {
    "colab": {
     "base_uri": "https://localhost:8080/",
     "height": 141
    },
    "colab_type": "code",
    "executionInfo": {
     "elapsed": 659,
     "status": "ok",
     "timestamp": 1586842622048,
     "user": {
      "displayName": "Zichuang Xie",
      "photoUrl": "",
      "userId": "08982348595392357027"
     },
     "user_tz": 420
    },
    "id": "4TD4Z4NwaSf2",
    "outputId": "6f82c750-557d-4a8b-d651-84226719bdea"
   },
   "outputs": [
    {
     "name": "stderr",
     "output_type": "stream",
     "text": [
      "/usr/local/lib/python3.6/dist-packages/pandas/core/generic.py:5303: SettingWithCopyWarning: \n",
      "A value is trying to be set on a copy of a slice from a DataFrame.\n",
      "Try using .loc[row_indexer,col_indexer] = value instead\n",
      "\n",
      "See the caveats in the documentation: https://pandas.pydata.org/pandas-docs/stable/user_guide/indexing.html#returning-a-view-versus-a-copy\n",
      "  self[name] = value\n"
     ]
    }
   ],
   "source": [
    "anger.anger = [np.nan_to_num(x) for x in anger['anger']]"
   ]
  },
  {
   "cell_type": "code",
   "execution_count": 0,
   "metadata": {
    "colab": {},
    "colab_type": "code",
    "id": "nLpA6e1zaQIl"
   },
   "outputs": [],
   "source": [
    "anger = anger.astype({\"anger\": int})"
   ]
  },
  {
   "cell_type": "code",
   "execution_count": 0,
   "metadata": {
    "colab": {},
    "colab_type": "code",
    "id": "D4raPvx7Tg_K"
   },
   "outputs": [],
   "source": [
    "sentences = anger.clean_text.values\n",
    "labels = anger.anger.values\n",
    "input_ids = []\n",
    "for sent in sentences:\n",
    "\n",
    "    encoded_sent = tokenizer.encode(\n",
    "                        sent,                      \n",
    "                        add_special_tokens = True, '\n",
    "                   )\n",
    "    \n",
    "    input_ids.append(encoded_sent)\n",
    "\n",
    "\n",
    "input_ids = pad_sequences(input_ids, maxlen=MAX_LEN, \n",
    "                          dtype=\"long\", truncating=\"post\", padding=\"post\")\n",
    "\n",
    "\n",
    "attention_masks = []\n",
    "\n",
    "\n",
    "for seq in input_ids:\n",
    "  seq_mask = [float(i>0) for i in seq]\n",
    "  attention_masks.append(seq_mask) \n",
    "\n",
    "\n",
    "prediction_inputs = torch.tensor(input_ids)\n",
    "prediction_masks = torch.tensor(attention_masks)\n",
    "prediction_labels = torch.tensor(labels)\n",
    "\n",
    " \n",
    "batch_size = 16  \n",
    "\n",
    "\n",
    "prediction_data = TensorDataset(prediction_inputs, prediction_masks, prediction_labels)\n",
    "prediction_sampler = SequentialSampler(prediction_data)\n",
    "prediction_dataloader = DataLoader(prediction_data, sampler=prediction_sampler, batch_size=batch_size)"
   ]
  },
  {
   "cell_type": "code",
   "execution_count": 0,
   "metadata": {
    "colab": {
     "base_uri": "https://localhost:8080/",
     "height": 52
    },
    "colab_type": "code",
    "executionInfo": {
     "elapsed": 117126,
     "status": "ok",
     "timestamp": 1586842846354,
     "user": {
      "displayName": "Zichuang Xie",
      "photoUrl": "",
      "userId": "08982348595392357027"
     },
     "user_tz": 420
    },
    "id": "Ey3Q3i1VaETC",
    "outputId": "0a150d68-5b6d-4a8c-a8bf-ca05e85e64fe"
   },
   "outputs": [
    {
     "name": "stdout",
     "output_type": "stream",
     "text": [
      "Predicting labels for 12,000 test sentences...\n",
      "    DONE.\n"
     ]
    }
   ],
   "source": [
    "\n",
    "print('Predicting labels for {:,} test sentences...'.format(len(prediction_inputs)))\n",
    "\n",
    "\n",
    "model.eval()\n",
    "\n",
    "\n",
    "predictions , true_labels = [], []\n",
    "\n",
    "\n",
    "for batch in prediction_dataloader:\n",
    "  \n",
    "  batch = tuple(t.to(device) for t in batch)\n",
    "  \n",
    "  b_input_ids, b_input_mask, b_labels = batch\n",
    "  \n",
    "  \n",
    "  with torch.no_grad():\n",
    "      \n",
    "      outputs = model(b_input_ids, token_type_ids=None, \n",
    "                      attention_mask=b_input_mask)\n",
    "\n",
    "  logits = outputs[0]\n",
    "\n",
    "  \n",
    "  logits = logits.detach().cpu().numpy()\n",
    "  label_ids = b_labels.to('cpu').numpy()\n",
    "  \n",
    "  predictions.append(logits)\n",
    "  true_labels.append(label_ids)\n",
    "\n",
    "print('    DONE.')"
   ]
  },
  {
   "cell_type": "code",
   "execution_count": 0,
   "metadata": {
    "colab": {
     "base_uri": "https://localhost:8080/",
     "height": 35
    },
    "colab_type": "code",
    "executionInfo": {
     "elapsed": 553,
     "status": "ok",
     "timestamp": 1586842895254,
     "user": {
      "displayName": "Zichuang Xie",
      "photoUrl": "",
      "userId": "08982348595392357027"
     },
     "user_tz": 420
    },
    "id": "tN37q1Hdav6H",
    "outputId": "c46e797c-06a7-44d5-d094-4a2a5c51ddae"
   },
   "outputs": [
    {
     "name": "stdout",
     "output_type": "stream",
     "text": [
      "Positive samples: 479 of 12000 (3.99%)\n"
     ]
    }
   ],
   "source": [
    "print('Positive samples: %d of %d (%.2f%%)' % (anger.anger.sum(), len(anger.anger), (anger.anger.sum() / len(anger.anger) * 100.0)))"
   ]
  },
  {
   "cell_type": "code",
   "execution_count": 0,
   "metadata": {
    "colab": {
     "base_uri": "https://localhost:8080/",
     "height": 89
    },
    "colab_type": "code",
    "executionInfo": {
     "elapsed": 1084,
     "status": "ok",
     "timestamp": 1586842900313,
     "user": {
      "displayName": "Zichuang Xie",
      "photoUrl": "",
      "userId": "08982348595392357027"
     },
     "user_tz": 420
    },
    "id": "YFvIcagGaz4O",
    "outputId": "309fbb82-c6d2-4b55-85ee-4749fd53dd92"
   },
   "outputs": [
    {
     "name": "stdout",
     "output_type": "stream",
     "text": [
      "Calculating Matthews Corr. Coef. for each batch...\n"
     ]
    },
    {
     "name": "stderr",
     "output_type": "stream",
     "text": [
      "/usr/local/lib/python3.6/dist-packages/sklearn/metrics/_classification.py:900: RuntimeWarning: invalid value encountered in double_scalars\n",
      "  mcc = cov_ytyp / np.sqrt(cov_ytyt * cov_ypyp)\n"
     ]
    }
   ],
   "source": [
    "from sklearn.metrics import matthews_corrcoef\n",
    "\n",
    "matthews_set = []\n",
    "print('Calculating Matthews Corr. Coef. for each batch...')\n",
    "\n",
    "for i in range(len(true_labels)):\n",
    "  pred_labels_i = np.argmax(predictions[i], axis=1).flatten()\n",
    "  \n",
    "  matthews = matthews_corrcoef(true_labels[i], pred_labels_i)                \n",
    "  matthews_set.append(matthews)"
   ]
  },
  {
   "cell_type": "code",
   "execution_count": 0,
   "metadata": {
    "colab": {},
    "colab_type": "code",
    "id": "-U3k6ltEa65g"
   },
   "outputs": [],
   "source": [
    "flat_predictions = [item for sublist in predictions for item in sublist]\n",
    "flat_predictions = np.argmax(flat_predictions, axis=1).flatten()\n",
    "flat_true_labels = [item for sublist in true_labels for item in sublist]\n",
    "mcc = matthews_corrcoef(flat_true_labels, flat_predictions)\n",
    "\n",
    "print('MCC: %.3f' % mcc)"
   ]
  },
  {
   "cell_type": "markdown",
   "metadata": {
    "colab_type": "text",
    "id": "BwOqO5-hb5-L"
   },
   "source": [
    "## Output Test Results"
   ]
  },
  {
   "cell_type": "code",
   "execution_count": 0,
   "metadata": {
    "colab": {},
    "colab_type": "code",
    "id": "_faiDsexc8vF"
   },
   "outputs": [],
   "source": [
    "frames = [flat_true_labels, flat_predictions]"
   ]
  },
  {
   "cell_type": "code",
   "execution_count": 0,
   "metadata": {
    "colab": {},
    "colab_type": "code",
    "id": "for1e9pddC8d"
   },
   "outputs": [],
   "source": [
    "table = pd.DataFrame(frames)"
   ]
  },
  {
   "cell_type": "code",
   "execution_count": 0,
   "metadata": {
    "colab": {
     "base_uri": "https://localhost:8080/",
     "height": 195
    },
    "colab_type": "code",
    "executionInfo": {
     "elapsed": 993,
     "status": "ok",
     "timestamp": 1586813342184,
     "user": {
      "displayName": "Nan Luo",
      "photoUrl": "",
      "userId": "09863712867964797135"
     },
     "user_tz": 420
    },
    "id": "-2kTQoE6dGCZ",
    "outputId": "8993067c-3dab-451f-b97c-eef7e63394d6"
   },
   "outputs": [
    {
     "data": {
      "text/html": [
       "<div>\n",
       "<style scoped>\n",
       "    .dataframe tbody tr th:only-of-type {\n",
       "        vertical-align: middle;\n",
       "    }\n",
       "\n",
       "    .dataframe tbody tr th {\n",
       "        vertical-align: top;\n",
       "    }\n",
       "\n",
       "    .dataframe thead th {\n",
       "        text-align: right;\n",
       "    }\n",
       "</style>\n",
       "<table border=\"1\" class=\"dataframe\">\n",
       "  <thead>\n",
       "    <tr style=\"text-align: right;\">\n",
       "      <th></th>\n",
       "      <th>True</th>\n",
       "      <th>Pred</th>\n",
       "    </tr>\n",
       "  </thead>\n",
       "  <tbody>\n",
       "    <tr>\n",
       "      <th>0</th>\n",
       "      <td>0</td>\n",
       "      <td>0</td>\n",
       "    </tr>\n",
       "    <tr>\n",
       "      <th>1</th>\n",
       "      <td>0</td>\n",
       "      <td>0</td>\n",
       "    </tr>\n",
       "    <tr>\n",
       "      <th>2</th>\n",
       "      <td>0</td>\n",
       "      <td>0</td>\n",
       "    </tr>\n",
       "    <tr>\n",
       "      <th>3</th>\n",
       "      <td>0</td>\n",
       "      <td>0</td>\n",
       "    </tr>\n",
       "    <tr>\n",
       "      <th>4</th>\n",
       "      <td>0</td>\n",
       "      <td>0</td>\n",
       "    </tr>\n",
       "  </tbody>\n",
       "</table>\n",
       "</div>"
      ],
      "text/plain": [
       "   True  Pred\n",
       "0     0     0\n",
       "1     0     0\n",
       "2     0     0\n",
       "3     0     0\n",
       "4     0     0"
      ]
     },
     "execution_count": 45,
     "metadata": {
      "tags": []
     },
     "output_type": "execute_result"
    }
   ],
   "source": [
    "results = table.T\n",
    "results.columns =['True', 'Pred'] \n",
    "results.head()"
   ]
  },
  {
   "cell_type": "code",
   "execution_count": 0,
   "metadata": {
    "colab": {},
    "colab_type": "code",
    "id": "S_xHDbPAcQ_W"
   },
   "outputs": [],
   "source": [
    "table_to_save = sadness.merge(results, left_index=True, right_index=True)"
   ]
  },
  {
   "cell_type": "code",
   "execution_count": 0,
   "metadata": {
    "colab": {},
    "colab_type": "code",
    "id": "HZA_4lcQb-qd"
   },
   "outputs": [],
   "source": [
    "table_to_save.to_csv('testing_data_results.csv')"
   ]
  },
  {
   "cell_type": "markdown",
   "metadata": {
    "colab_type": "text",
    "id": "IBKuOQ8_eY4F"
   },
   "source": [
    "# Label Other Tweets"
   ]
  },
  {
   "cell_type": "code",
   "execution_count": 0,
   "metadata": {
    "colab": {
     "base_uri": "https://localhost:8080/",
     "height": 52
    },
    "colab_type": "code",
    "executionInfo": {
     "elapsed": 2513,
     "status": "ok",
     "timestamp": 1586856122921,
     "user": {
      "displayName": "Zichuang Xie",
      "photoUrl": "",
      "userId": "08982348595392357027"
     },
     "user_tz": 420
    },
    "id": "2O4kaGs8e8iL",
    "outputId": "d1cbadbc-ab1d-455c-cdd7-73ea7cb4c2a8"
   },
   "outputs": [
    {
     "name": "stdout",
     "output_type": "stream",
     "text": [
      "Number of unlabeled sentences: 115,416\n",
      "\n"
     ]
    }
   ],
   "source": [
    "df = pd.read_csv(\"/content/data_test_0308_0323.csv\")\n",
    "print('Number of unlabeled sentences: {:,}\\n'.format(df.shape[0]))\n",
    "analytical = df[['clean_text']]"
   ]
  },
  {
   "cell_type": "code",
   "execution_count": 0,
   "metadata": {
    "colab": {},
    "colab_type": "code",
    "id": "9ADDNg_0ezb2"
   },
   "outputs": [],
   "source": [
    "sentences = analytical.clean_text.values\n",
    "input_ids = []\n",
    "for sent in sentences:\n",
    "    encoded_sent = tokenizer.encode(\n",
    "                        sent,                      \n",
    "                        add_special_tokens = True, \n",
    "                   )\n",
    "    \n",
    "    input_ids.append(encoded_sent)\n",
    "input_ids = pad_sequences(input_ids, maxlen=MAX_LEN, \n",
    "                          dtype=\"long\", truncating=\"post\", padding=\"post\")\n",
    "attention_masks = []\n",
    "for seq in input_ids:\n",
    "  seq_mask = [float(i>0) for i in seq]\n",
    "  attention_masks.append(seq_mask) \n",
    "prediction_inputs = torch.tensor(input_ids)\n",
    "prediction_masks = torch.tensor(attention_masks)\n",
    "batch_size = 16  \n",
    "prediction_data = TensorDataset(prediction_inputs, prediction_masks)\n",
    "prediction_sampler = SequentialSampler(prediction_data)\n",
    "prediction_dataloader = DataLoader(prediction_data, sampler=prediction_sampler, batch_size=batch_size)"
   ]
  },
  {
   "cell_type": "code",
   "execution_count": 0,
   "metadata": {
    "colab": {
     "base_uri": "https://localhost:8080/",
     "height": 35
    },
    "colab_type": "code",
    "executionInfo": {
     "elapsed": 1229971,
     "status": "ok",
     "timestamp": 1586851388621,
     "user": {
      "displayName": "Zichuang Xie",
      "photoUrl": "",
      "userId": "08982348595392357027"
     },
     "user_tz": 420
    },
    "id": "pMbfMQ2Fezb6",
    "outputId": "93796e4c-96bc-4c76-e88a-64019719d0b1"
   },
   "outputs": [
    {
     "name": "stdout",
     "output_type": "stream",
     "text": [
      "Predicting labels for 115,416 test sentences...\n"
     ]
    }
   ],
   "source": [
    "print('Predicting labels for {:,} test sentences...'.format(len(prediction_inputs)))\n",
    "model.eval() \n",
    "predictions  = []\n",
    "for batch in prediction_dataloader:\n",
    "  \n",
    "  batch = tuple(t.to(device) for t in batch)\n",
    "  b_input_ids, b_input_mask = batch\n",
    "  \n",
    "  \n",
    "  with torch.no_grad():\n",
    "      outputs = model(b_input_ids, token_type_ids=None, \n",
    "                      attention_mask=b_input_mask)\n",
    "\n",
    "  logits = outputs[0]\n",
    "  logits = logits.detach().cpu().numpy()\n",
    "  predictions.append(logits)\n",
    "  \n",
    "\n",
    "print('    DONE.')"
   ]
  },
  {
   "cell_type": "code",
   "execution_count": 0,
   "metadata": {
    "colab": {},
    "colab_type": "code",
    "id": "tpl0hjpqef1h"
   },
   "outputs": [],
   "source": [
    "# Combine the predictions for each batch into a single list of 0s and 1s.\n",
    "flat_predictions = [item for sublist in predictions for item in sublist]\n",
    "flat_predictions = np.argmax(flat_predictions, axis=1).flatten()"
   ]
  },
  {
   "cell_type": "code",
   "execution_count": 0,
   "metadata": {
    "colab": {},
    "colab_type": "code",
    "id": "vEykTu38k0GJ"
   },
   "outputs": [],
   "source": [
    "table1 = pd.DataFrame(flat_predictions)\n",
    "table1.columns = ['pred_anger']\n",
    "df1 = df[['text', 'timestamp', 'clean_text']]"
   ]
  },
  {
   "cell_type": "code",
   "execution_count": 0,
   "metadata": {
    "colab": {},
    "colab_type": "code",
    "id": "QOdrHDAa10-3"
   },
   "outputs": [],
   "source": [
    "pred_output1 = df1.merge(table1,left_index=True, right_index=True)\n",
    "pred_output1.to_csv('data_test_0324_0408_anger_lite.csv')"
   ]
  },
  {
   "cell_type": "code",
   "execution_count": 0,
   "metadata": {
    "colab": {
     "base_uri": "https://localhost:8080/",
     "height": 35
    },
    "colab_type": "code",
    "executionInfo": {
     "elapsed": 378,
     "status": "ok",
     "timestamp": 1586851452224,
     "user": {
      "displayName": "Zichuang Xie",
      "photoUrl": "",
      "userId": "08982348595392357027"
     },
     "user_tz": 420
    },
    "id": "F1z6Onqn-fGj",
    "outputId": "63177346-6568-4c26-9ce9-604b450650a8"
   },
   "outputs": [
    {
     "data": {
      "text/plain": [
       "122541"
      ]
     },
     "execution_count": 76,
     "metadata": {
      "tags": []
     },
     "output_type": "execute_result"
    }
   ],
   "source": [
    "len(pred_output1)"
   ]
  }
 ],
 "metadata": {
  "accelerator": "GPU",
  "colab": {
   "collapsed_sections": [],
   "name": "BERT_LN_tweets_for_anger.ipynb",
   "provenance": [],
   "toc_visible": true
  },
  "kernelspec": {
   "display_name": "Python 3",
   "language": "python",
   "name": "python3"
  },
  "language_info": {
   "codemirror_mode": {
    "name": "ipython",
    "version": 3
   },
   "file_extension": ".py",
   "mimetype": "text/x-python",
   "name": "python",
   "nbconvert_exporter": "python",
   "pygments_lexer": "ipython3",
   "version": "3.7.6"
  }
 },
 "nbformat": 4,
 "nbformat_minor": 1
}
